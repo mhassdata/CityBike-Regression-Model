{
 "cells": [
  {
   "cell_type": "markdown",
   "metadata": {},
   "source": [
    "# CityBikes"
   ]
  },
  {
   "cell_type": "markdown",
   "metadata": {},
   "source": [
    "Send a request to CityBikes for the city of your choice. "
   ]
  },
  {
   "cell_type": "code",
   "execution_count": null,
   "metadata": {},
   "outputs": [],
   "source": [
    "import requests\n",
    "\n",
    "def get_bike_stations(city):\n",
    "    # Step 1: Get the networks data\n",
    "    networks_url = \"http://api.citybik.es/v2/networks\"\n",
    "    response = requests.get(networks_url)\n",
    "    data = response.json()\n",
    "\n",
    "# Specify the city you want to retrieve bike stations for\n",
    "city = \"Boise, ID\"\n",
    "\n",
    "# Call the function to get bike stations in the specified city\n",
    "stations = get_bike_stations(city)"
   ]
  },
  {
   "cell_type": "markdown",
   "metadata": {},
   "source": [
    "Parse through the response to get the details you want for the bike stations in that city (latitude, longitude, number of bikes). "
   ]
  },
  {
   "cell_type": "code",
   "execution_count": null,
   "metadata": {},
   "outputs": [],
   "source": [
    "def get_bike_stations(city):\n",
    "    # Step 1: Get the networks data\n",
    "    networks_url = \"http://api.citybik.es/v2/networks\"\n",
    "    response = requests.get(networks_url)\n",
    "    data = response.json()\n",
    "    \n",
    "    # Step 2: Find the network ID for the given city\n",
    "    network_id = None\n",
    "    for network in data['networks']:\n",
    "        if network['location']['city'] == city:\n",
    "            network_id = network['id']\n",
    "            break\n",
    "    \n",
    "    # Step 3: Retrieve bike station data for the network\n",
    "    if network_id:\n",
    "        network_url = f\"http://api.citybik.es/v2/networks/{network_id}\"\n",
    "        response = requests.get(network_url)\n",
    "        data = response.json()\n",
    "        \n",
    "        # Step 4: Extract the bike stations\n",
    "        bike_stations = data['network']['stations']\n",
    "        return bike_stations\n",
    "    \n",
    "    return None\n",
    "\n",
    "# Specify the city you want to retrieve bike stations for\n",
    "city = \"Boise, ID\"\n",
    "\n",
    "# Call the function to get bike stations in the specified city\n",
    "stations = get_bike_stations(city)\n",
    "\n",
    "print(stations)"
   ]
  },
  {
   "cell_type": "markdown",
   "metadata": {},
   "source": [
    "Put your parsed results into a DataFrame."
   ]
  },
  {
   "cell_type": "code",
   "execution_count": null,
   "metadata": {},
   "outputs": [],
   "source": [
    "ef get_bike_stations(city):\n",
    "    # Step 1: Get the networks data\n",
    "    networks_url = \"http://api.citybik.es/v2/networks\"\n",
    "    response = requests.get(networks_url)\n",
    "    data = response.json()\n",
    "    \n",
    "    # Step 2: Find the network ID for the given city\n",
    "    network_id = None\n",
    "    for network in data['networks']:\n",
    "        if network['location']['city'] == city:\n",
    "            network_id = network['id']\n",
    "            break\n",
    "    \n",
    "    # Step 3: Retrieve bike station data for the network\n",
    "    if network_id:\n",
    "        network_url = f\"http://api.citybik.es/v2/networks/{network_id}\"\n",
    "        response = requests.get(network_url)\n",
    "        data = response.json()\n",
    "        \n",
    "        # Step 4: Extract the bike stations\n",
    "        bike_stations = data['network']['stations']\n",
    "        return bike_stations\n",
    "    \n",
    "    return None\n",
    "\n",
    "# Specify the city you want to retrieve bike stations for\n",
    "city = \"Boise, ID\"\n",
    "\n",
    "# Call the function to get bike stations in the specified city\n",
    "stations = get_bike_stations(city)\n",
    "\n",
    "print(stations)"
   ]
  }
 ],
 "metadata": {
  "kernelspec": {
   "display_name": "Python 3",
   "language": "python",
   "name": "python3"
  },
  "language_info": {
   "codemirror_mode": {
    "name": "ipython",
    "version": 3
   },
   "file_extension": ".py",
   "mimetype": "text/x-python",
   "name": "python",
   "nbconvert_exporter": "python",
   "pygments_lexer": "ipython3",
   "version": "3.8.5"
  }
 },
 "nbformat": 4,
 "nbformat_minor": 4
}
